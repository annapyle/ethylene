{
 "cells": [
  {
   "cell_type": "markdown",
   "id": "d404b4b5",
   "metadata": {},
   "source": [
    "# Power Cost Minimization"
   ]
  },
  {
   "cell_type": "markdown",
   "id": "ce32ad2b",
   "metadata": {},
   "source": [
    "### Defining Givens"
   ]
  },
  {
   "cell_type": "code",
   "execution_count": 1,
   "id": "9a73347f",
   "metadata": {},
   "outputs": [],
   "source": [
    "#Given: P_L over a day\n",
    "#Given: P_ramp\n",
    "\n",
    "#Minimize: Power cost\n",
    "    #Sum from t=1 to t=24 C_1^t + C_2^t\n",
    "\n",
    "#Power Plant Costs:\n",
    "    #Coal: C_1^t = P_g_1**2 + 4*P_g_1 + 100\n",
    "    #Gas: C_2^t = 0.9*P_g_1**2 + 5*P_g_2 + 80\n",
    "\n",
    "#Optimize: P_g_1 and P_g_2 over the gourse of a day\n",
    "\n",
    "#General Equations\n",
    "    #P_L^t = P_g_1^t + P_g_2^t\n",
    "    #P_g_1^t >= 0 for all t\n",
    "    #P_g_2^t >= 0 for all t\n",
    "    \n",
    "#Pramp, gas ≈ 20 [MW/min]\n",
    "#Pramp, coal ≈ 2 [MW/min]"
   ]
  },
  {
   "cell_type": "markdown",
   "id": "389f8369",
   "metadata": {},
   "source": [
    "### Importing "
   ]
  },
  {
   "cell_type": "code",
   "execution_count": 2,
   "id": "58802eb9",
   "metadata": {},
   "outputs": [],
   "source": [
    "import pandas as pd\n",
    "import cvxpy as cp\n",
    "import numpy as np\n",
    "import scipy as sp\n",
    "import matplotlib.pyplot as plt"
   ]
  },
  {
   "cell_type": "markdown",
   "id": "ff7d7a3b",
   "metadata": {},
   "source": [
    "### Defining Values"
   ]
  },
  {
   "cell_type": "code",
   "execution_count": 3,
   "id": "d06e2da5",
   "metadata": {},
   "outputs": [],
   "source": [
    "df = pd.read_excel (r'C:\\Users\\kenda\\OneDrive - UCB-O365\\Documents\\research\\ethylene 07.xlsx')\n",
    "# print (df)"
   ]
  },
  {
   "cell_type": "markdown",
   "id": "c98a305d",
   "metadata": {},
   "source": [
    "### Establishing Equations and Solving"
   ]
  },
  {
   "cell_type": "markdown",
   "id": "8c234036",
   "metadata": {},
   "source": [
    "#### Simple Version no Ramp"
   ]
  },
  {
   "cell_type": "code",
   "execution_count": 4,
   "id": "56dd594a",
   "metadata": {},
   "outputs": [
    {
     "name": "stdout",
     "output_type": "stream",
     "text": [
      "status: optimal\n",
      "optimal cost: $ 15488405.263157897\n"
     ]
    }
   ],
   "source": [
    "P_L = []\n",
    "for n in range (0, 24):\n",
    "    P_L = P_L + [df.at[n, 'P_L']]\n",
    "\n",
    "P_g_1 = cp.Variable(24)\n",
    "P_g_2 = cp.Variable(24)\n",
    "\n",
    "C_1 = P_g_1**2 + 4*P_g_1 + 100\n",
    "C_2 = 0.9*P_g_2**2 + 5*P_g_2 + 80\n",
    "\n",
    "objective = sum(C_1 + C_2)\n",
    "\n",
    "constraints = []\n",
    "\n",
    "for n in range (0, 24):\n",
    "    constraints += [P_g_1[n] >= 0] #P_g_1 >= 0\n",
    "    constraints += [P_g_2[n] >= 0] #P_g_2 >= 0\n",
    "    constraints += [P_L[n] == P_g_1[n] + P_g_2[n]] #P_L = P_g_1 + P_g_2\n",
    "    n+1\n",
    "    \n",
    "prob = cp.Problem(cp.Minimize(objective), constraints)\n",
    "prob.solve() \n",
    "\n",
    "print(\"status:\", prob.status)\n",
    "print(\"optimal cost: $\", prob.value)\n",
    "# print(\"optimal power consumption over a day: coal:\", P_g_1.value)\n",
    "# print(\"optimal power consumption over a day: gas: \", P_g_2.value)"
   ]
  },
  {
   "cell_type": "markdown",
   "id": "a56e05cc",
   "metadata": {},
   "source": [
    "#### Including Ramp"
   ]
  },
  {
   "cell_type": "markdown",
   "id": "aa21ea71",
   "metadata": {},
   "source": [
    "#### Scenario 1: P_ramp_g ≈ 20 [MW/min], P_ramp_c ≈ 2 [MW/min]"
   ]
  },
  {
   "cell_type": "code",
   "execution_count": 5,
   "id": "ca1f6708",
   "metadata": {},
   "outputs": [
    {
     "name": "stdout",
     "output_type": "stream",
     "text": [
      "status: optimal\n",
      "optimal value 15488441.192105265\n"
     ]
    }
   ],
   "source": [
    "P_ramp_g = 1200 #[MW/hr]\n",
    "P_ramp_c = 120 #[MW/hr]\n",
    "\n",
    "P_L = []\n",
    "for n in range (0, 24):\n",
    "    P_L = P_L + [df.at[n, 'P_L']]\n",
    "\n",
    "P_g_1 = cp.Variable(24)\n",
    "P_g_2 = cp.Variable(24)\n",
    "\n",
    "C_1 = P_g_1**2 + 4*P_g_1 + 100\n",
    "C_2 = 0.9*P_g_2**2 + 5*P_g_2 + 80\n",
    "\n",
    "objective = sum(C_1 + C_2)\n",
    "\n",
    "constraints = []\n",
    "\n",
    "for n in range (0, 24):\n",
    "    constraints += [P_g_1[n] >= 0] #P_g_1 >= 0\n",
    "    constraints += [P_g_2[n] >= 0] #P_g_2 >= 0\n",
    "    constraints += [P_L[n] == P_g_1[n] + P_g_2[n]] #P_L = P_g_1 + P_g_2\n",
    "    n+1\n",
    "    \n",
    "for n in range (0, 23): \n",
    "    a = P_g_1[n]\n",
    "    b = P_g_1[n+1]\n",
    "    c = P_g_2[n]\n",
    "    d = P_g_2[n+1]\n",
    "    constraints += [(a - b) <= P_ramp_c, (a - b) >= -P_ramp_c] \n",
    "    constraints += [(c - d) <= P_ramp_g, (c - d) >= -P_ramp_g] \n",
    "    n+1\n",
    "    \n",
    "prob = cp.Problem(cp.Minimize(objective), constraints)\n",
    "prob.solve() \n",
    "\n",
    "print(\"status:\", prob.status)\n",
    "print(\"optimal value\", prob.value)\n",
    "# print(\"optimal var\", P_g_1.value, P_g_2.value)"
   ]
  },
  {
   "cell_type": "markdown",
   "id": "2d326f88",
   "metadata": {},
   "source": [
    "#### Scenario 2: P_ramp_g ≈ 25 [MW/min], P_ramp_c ≈ 2 [MW/min]"
   ]
  },
  {
   "cell_type": "code",
   "execution_count": 6,
   "id": "0768c1e7",
   "metadata": {},
   "outputs": [
    {
     "name": "stdout",
     "output_type": "stream",
     "text": [
      "status: optimal\n",
      "Minimized Cost: $ 15488441.192105265\n"
     ]
    }
   ],
   "source": [
    "P_ramp_g = 1500 #[MW/hr]\n",
    "P_ramp_c = 120 #[MW/hr]\n",
    "\n",
    "h = 24 # number of hours \n",
    "\n",
    "P_L = []\n",
    "for n in range (0, h):\n",
    "    P_L = P_L + [df.at[n, 'P_L']]\n",
    "\n",
    "P_g_1 = cp.Variable(h)\n",
    "P_g_2 = cp.Variable(h)\n",
    "\n",
    "C_1 = P_g_1**2 + 4*P_g_1 + 100\n",
    "C_2 = 0.9*P_g_2**2 + 5*P_g_2 + 80\n",
    "\n",
    "objective = sum(C_1 + C_2)\n",
    "\n",
    "constraints = []\n",
    "\n",
    "for n in range (0, h):\n",
    "    constraints += [P_g_1[n] >= 0] #P_g_1 >= 0\n",
    "    constraints += [P_g_2[n] >= 0] #P_g_2 >= 0\n",
    "    constraints += [P_L[n] == P_g_1[n] + P_g_2[n]] #P_L = P_g_1 + P_g_2\n",
    "    n+1\n",
    "    \n",
    "for n in range (0, h-1): \n",
    "    a = P_g_1[n]\n",
    "    b = P_g_1[n+1]\n",
    "    c = P_g_2[n]\n",
    "    d = P_g_2[n+1]\n",
    "    constraints += [(a - b) <= P_ramp_c, (a - b) >= -P_ramp_c]\n",
    "    constraints += [(c - d) <= P_ramp_g, (c - d) >= -P_ramp_g] \n",
    "    n+1\n",
    "    \n",
    "prob = cp.Problem(cp.Minimize(objective), constraints)\n",
    "prob.solve() \n",
    "\n",
    "print(\"status:\", prob.status)\n",
    "print(\"Minimized Cost: $\", prob.value)\n",
    "#print(\"optimal var\", P_g_1.value, P_g_2.value)"
   ]
  },
  {
   "cell_type": "code",
   "execution_count": 7,
   "id": "a46d2246",
   "metadata": {
    "scrolled": true
   },
   "outputs": [
    {
     "data": {
      "image/png": "[encoded data removed]",
      "text/plain": [
       "<Figure size 432x288 with 1 Axes>"
      ]
     },
     "metadata": {
      "needs_background": "light"
     },
     "output_type": "display_data"
    }
   ],
   "source": [
    "t = []\n",
    "\n",
    "for n in range (0, h):\n",
    "    t = t + [n+1]\n",
    "    n+1\n",
    "\n",
    "plt.plot(range(0,24), P_g_1.value, label = 'Coal') # coal\n",
    "plt.plot(range(0,24), P_g_2.value, label = 'Gas'); # gas\n",
    "plt.xlabel(\"Time (hours)\")\n",
    "plt.ylabel(\"Power Use (MW)\")\n",
    "plt.title(\"Power Use For Minimized Cost\")\n",
    "leg = plt.legend()"
   ]
  },
  {
   "cell_type": "markdown",
   "id": "d8726cde",
   "metadata": {},
   "source": [
    "#### Scenario 3: Assume all Power Supplied by Coal (Ignore Ramp)"
   ]
  },
  {
   "cell_type": "code",
   "execution_count": 8,
   "id": "22ffa6ed",
   "metadata": {},
   "outputs": [
    {
     "name": "stdout",
     "output_type": "stream",
     "text": [
      "cost: $ 32542420.0\n"
     ]
    }
   ],
   "source": [
    "P_g_1 = []\n",
    "C_1 = []\n",
    "\n",
    "for n in range (0, 24):\n",
    "    P_g_1 = P_g_1 + [df.at[n, 'P_L']]\n",
    "    C_1 = C_1 + [P_g_1[n]**2 + 4*P_g_1[n] + 100]\n",
    "\n",
    "cost = sum(C_1)\n",
    "\n",
    "print(\"cost: $\", cost)"
   ]
  },
  {
   "cell_type": "markdown",
   "id": "e68a4304",
   "metadata": {},
   "source": [
    "#### Scenario 4: Assume all Power Supplied by Gas (Ignore Ramp)"
   ]
  },
  {
   "cell_type": "code",
   "execution_count": 9,
   "id": "c25b7e0a",
   "metadata": {},
   "outputs": [
    {
     "name": "stdout",
     "output_type": "stream",
     "text": [
      "cost: $ 29325388.0\n"
     ]
    }
   ],
   "source": [
    "P_g_2 = []\n",
    "C_2 = []\n",
    "\n",
    "for n in range (0, 24):\n",
    "    P_g_2 = P_g_2 + [df.at[n, 'P_L']]\n",
    "    C_2 = C_2 + [0.9*P_g_2[n]**2 + 5*P_g_2[n] + 80]\n",
    "\n",
    "cost = sum(C_2)\n",
    "\n",
    "print(\"cost: $\", cost)"
   ]
  }
 ],
 "metadata": {
  "kernelspec": {
   "display_name": "Python 3 (ipykernel)",
   "language": "python",
   "name": "python3"
  },
  "language_info": {
   "codemirror_mode": {
    "name": "ipython",
    "version": 3
   },
   "file_extension": ".py",
   "mimetype": "text/x-python",
   "name": "python",
   "nbconvert_exporter": "python",
   "pygments_lexer": "ipython3",
   "version": "3.9.7"
  }
 },
 "nbformat": 4,
 "nbformat_minor": 5
}
